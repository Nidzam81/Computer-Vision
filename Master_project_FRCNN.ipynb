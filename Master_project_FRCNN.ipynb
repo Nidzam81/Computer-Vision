{
  "nbformat": 4,
  "nbformat_minor": 0,
  "metadata": {
    "colab": {
      "name": "Master_project_FRCNN.ipynb",
      "provenance": [],
      "collapsed_sections": [],
      "toc_visible": true,
      "include_colab_link": true
    },
    "kernelspec": {
      "name": "python3",
      "display_name": "Python 3"
    },
    "accelerator": "GPU"
  },
  "cells": [
    {
      "cell_type": "markdown",
      "metadata": {
        "id": "view-in-github",
        "colab_type": "text"
      },
      "source": [
        "<a href=\"https://colab.research.google.com/github/Nidzam81/Computer-Vision/blob/main/Master_project_FRCNN.ipynb\" target=\"_parent\"><img src=\"https://colab.research.google.com/assets/colab-badge.svg\" alt=\"Open In Colab\"/></a>"
      ]
    },
    {
      "cell_type": "code",
      "metadata": {
        "id": "odXs0F1V9ldA",
        "colab": {
          "base_uri": "https://localhost:8080/",
          "height": 159
        },
        "outputId": "38fbfbf3-86a4-4798-8696-043c99360e3b"
      },
      "source": [
        "!git clone https://github.com/tensorflow/models.git"
      ],
      "execution_count": null,
      "outputs": [
        {
          "output_type": "stream",
          "text": [
            "Cloning into 'models'...\n",
            "remote: Enumerating objects: 18, done.\u001b[K\n",
            "remote: Counting objects: 100% (18/18), done.\u001b[K\n",
            "remote: Compressing objects: 100% (18/18), done.\u001b[K\n",
            "remote: Total 24457 (delta 1), reused 0 (delta 0), pack-reused 24439\n",
            "Receiving objects: 100% (24457/24457), 563.42 MiB | 28.59 MiB/s, done.\n",
            "Resolving deltas: 100% (14534/14534), done.\n",
            "Checking out files: 100% (2768/2768), done.\n"
          ],
          "name": "stdout"
        }
      ]
    },
    {
      "cell_type": "code",
      "metadata": {
        "id": "9zytEmDh-3O6"
      },
      "source": [
        "!apt-get install -qq protobuf-compiler python-tk"
      ],
      "execution_count": null,
      "outputs": []
    },
    {
      "cell_type": "code",
      "metadata": {
        "id": "fIEed-xY_g11",
        "colab": {
          "base_uri": "https://localhost:8080/",
          "height": 52
        },
        "outputId": "0bddae40-ba4a-4c79-a4a1-b9c72c68f9b4"
      },
      "source": [
        "!pip install -q Cython contextlib2 pillow lxml matplotlib PyDrive"
      ],
      "execution_count": null,
      "outputs": [
        {
          "output_type": "stream",
          "text": [
            "\u001b[?25l\r\u001b[K    1% |▎                               | 10kB 21.2MB/s eta 0:00:01\r\u001b[K    2% |▋                               | 20kB 4.6MB/s eta 0:00:01\r\u001b[K    3% |█                               | 30kB 6.6MB/s eta 0:00:01\r\u001b[K    4% |█▎                              | 40kB 4.3MB/s eta 0:00:01\r\u001b[K    5% |█▋                              | 51kB 5.3MB/s eta 0:00:01\r\u001b[K    6% |██                              | 61kB 6.2MB/s eta 0:00:01\r\u001b[K    7% |██▎                             | 71kB 7.1MB/s eta 0:00:01\r\u001b[K    8% |██▋                             | 81kB 7.9MB/s eta 0:00:01\r\u001b[K    9% |███                             | 92kB 8.7MB/s eta 0:00:01\r\u001b[K    10% |███▎                            | 102kB 7.0MB/s eta 0:00:01\r\u001b[K    11% |███▋                            | 112kB 7.1MB/s eta 0:00:01\r\u001b[K    12% |████                            | 122kB 9.6MB/s eta 0:00:01\r\u001b[K    13% |████▎                           | 133kB 9.5MB/s eta 0:00:01\r\u001b[K    14% |████▋                           | 143kB 16.6MB/s eta 0:00:01\r\u001b[K    15% |█████                           | 153kB 16.8MB/s eta 0:00:01\r\u001b[K    16% |█████▎                          | 163kB 16.7MB/s eta 0:00:01\r\u001b[K    17% |█████▋                          | 174kB 16.1MB/s eta 0:00:01\r\u001b[K    18% |██████                          | 184kB 16.3MB/s eta 0:00:01\r\u001b[K    19% |██████▎                         | 194kB 16.3MB/s eta 0:00:01\r\u001b[K    20% |██████▋                         | 204kB 40.1MB/s eta 0:00:01\r\u001b[K    21% |███████                         | 215kB 22.0MB/s eta 0:00:01\r\u001b[K    22% |███████▎                        | 225kB 21.7MB/s eta 0:00:01\r\u001b[K    23% |███████▋                        | 235kB 22.1MB/s eta 0:00:01\r\u001b[K    24% |████████                        | 245kB 21.1MB/s eta 0:00:01\r\u001b[K    25% |████████▎                       | 256kB 21.2MB/s eta 0:00:01\r\u001b[K    26% |████████▋                       | 266kB 20.4MB/s eta 0:00:01\r\u001b[K    27% |█████████                       | 276kB 21.5MB/s eta 0:00:01\r\u001b[K    29% |█████████▎                      | 286kB 21.5MB/s eta 0:00:01\r\u001b[K    30% |█████████▋                      | 296kB 21.4MB/s eta 0:00:01\r\u001b[K    31% |██████████                      | 307kB 22.4MB/s eta 0:00:01\r\u001b[K    32% |██████████▎                     | 317kB 42.4MB/s eta 0:00:01\r\u001b[K    33% |██████████▋                     | 327kB 42.0MB/s eta 0:00:01\r\u001b[K    34% |███████████                     | 337kB 43.0MB/s eta 0:00:01\r\u001b[K    35% |███████████▎                    | 348kB 42.2MB/s eta 0:00:01\r\u001b[K    36% |███████████▋                    | 358kB 42.6MB/s eta 0:00:01\r\u001b[K    37% |████████████                    | 368kB 46.7MB/s eta 0:00:01\r\u001b[K    38% |████████████▎                   | 378kB 46.4MB/s eta 0:00:01\r\u001b[K    39% |████████████▋                   | 389kB 47.4MB/s eta 0:00:01\r\u001b[K    40% |█████████████                   | 399kB 33.6MB/s eta 0:00:01\r\u001b[K    41% |█████████████▎                  | 409kB 33.4MB/s eta 0:00:01\r\u001b[K    42% |█████████████▋                  | 419kB 33.8MB/s eta 0:00:01\r\u001b[K    43% |██████████████                  | 430kB 33.8MB/s eta 0:00:01\r\u001b[K    44% |██████████████▎                 | 440kB 32.9MB/s eta 0:00:01\r\u001b[K    45% |██████████████▋                 | 450kB 34.4MB/s eta 0:00:01\r\u001b[K    46% |███████████████                 | 460kB 34.2MB/s eta 0:00:01\r\u001b[K    47% |███████████████▎                | 471kB 34.4MB/s eta 0:00:01\r\u001b[K    48% |███████████████▋                | 481kB 34.6MB/s eta 0:00:01\r\u001b[K    49% |████████████████                | 491kB 34.4MB/s eta 0:00:01\r\u001b[K    50% |████████████████▎               | 501kB 49.4MB/s eta 0:00:01\r\u001b[K    51% |████████████████▋               | 512kB 45.5MB/s eta 0:00:01\r\u001b[K    52% |█████████████████               | 522kB 44.8MB/s eta 0:00:01\r\u001b[K    53% |█████████████████▎              | 532kB 46.9MB/s eta 0:00:01\r\u001b[K    54% |█████████████████▋              | 542kB 23.9MB/s eta 0:00:01\r\u001b[K    55% |██████████████████              | 552kB 24.7MB/s eta 0:00:01\r\u001b[K    57% |██████████████████▎             | 563kB 24.4MB/s eta 0:00:01\r\u001b[K    58% |██████████████████▋             | 573kB 23.6MB/s eta 0:00:01\r\u001b[K    59% |███████████████████             | 583kB 23.6MB/s eta 0:00:01\r\u001b[K    60% |███████████████████▎            | 593kB 23.6MB/s eta 0:00:01\r\u001b[K    61% |███████████████████▋            | 604kB 23.7MB/s eta 0:00:01\r\u001b[K    62% |████████████████████            | 614kB 24.6MB/s eta 0:00:01\r\u001b[K    63% |████████████████████▎           | 624kB 24.6MB/s eta 0:00:01\r\u001b[K    64% |████████████████████▋           | 634kB 24.4MB/s eta 0:00:01\r\u001b[K    65% |█████████████████████           | 645kB 50.2MB/s eta 0:00:01\r\u001b[K    66% |█████████████████████▎          | 655kB 49.9MB/s eta 0:00:01\r\u001b[K    67% |█████████████████████▋          | 665kB 42.0MB/s eta 0:00:01\r\u001b[K    68% |██████████████████████          | 675kB 44.3MB/s eta 0:00:01\r\u001b[K    69% |██████████████████████▎         | 686kB 44.9MB/s eta 0:00:01\r\u001b[K    70% |██████████████████████▋         | 696kB 45.1MB/s eta 0:00:01\r\u001b[K    71% |███████████████████████         | 706kB 44.4MB/s eta 0:00:01\r\u001b[K    72% |███████████████████████▎        | 716kB 45.0MB/s eta 0:00:01\r\u001b[K    73% |███████████████████████▋        | 727kB 44.5MB/s eta 0:00:01\r\u001b[K    74% |████████████████████████        | 737kB 45.1MB/s eta 0:00:01\r\u001b[K    75% |████████████████████████▎       | 747kB 45.5MB/s eta 0:00:01\r\u001b[K    76% |████████████████████████▋       | 757kB 45.1MB/s eta 0:00:01\r\u001b[K    77% |████████████████████████▉       | 768kB 56.5MB/s eta 0:00:01\r\u001b[K    78% |█████████████████████████▏      | 778kB 55.9MB/s eta 0:00:01\r\u001b[K    79% |█████████████████████████▌      | 788kB 54.1MB/s eta 0:00:01\r\u001b[K    80% |█████████████████████████▉      | 798kB 54.6MB/s eta 0:00:01\r\u001b[K    81% |██████████████████████████▏     | 808kB 55.2MB/s eta 0:00:01\r\u001b[K    82% |██████████████████████████▌     | 819kB 54.6MB/s eta 0:00:01\r\u001b[K    83% |██████████████████████████▉     | 829kB 56.3MB/s eta 0:00:01\r\u001b[K    85% |███████████████████████████▏    | 839kB 56.0MB/s eta 0:00:01\r\u001b[K    86% |███████████████████████████▌    | 849kB 54.9MB/s eta 0:00:01\r\u001b[K    87% |███████████████████████████▉    | 860kB 49.9MB/s eta 0:00:01\r\u001b[K    88% |████████████████████████████▏   | 870kB 49.6MB/s eta 0:00:01\r\u001b[K    89% |████████████████████████████▌   | 880kB 50.4MB/s eta 0:00:01\r\u001b[K    90% |████████████████████████████▉   | 890kB 51.5MB/s eta 0:00:01\r\u001b[K    91% |█████████████████████████████▏  | 901kB 51.2MB/s eta 0:00:01\r\u001b[K    92% |█████████████████████████████▌  | 911kB 51.2MB/s eta 0:00:01\r\u001b[K    93% |█████████████████████████████▉  | 921kB 50.6MB/s eta 0:00:01\r\u001b[K    94% |██████████████████████████████▏ | 931kB 49.6MB/s eta 0:00:01\r\u001b[K    95% |██████████████████████████████▌ | 942kB 49.0MB/s eta 0:00:01\r\u001b[K    96% |██████████████████████████████▉ | 952kB 48.4MB/s eta 0:00:01\r\u001b[K    97% |███████████████████████████████▏| 962kB 53.4MB/s eta 0:00:01\r\u001b[K    98% |███████████████████████████████▌| 972kB 53.7MB/s eta 0:00:01\r\u001b[K    99% |███████████████████████████████▉| 983kB 53.5MB/s eta 0:00:01\r\u001b[K    100% |████████████████████████████████| 993kB 20.6MB/s \n",
            "\u001b[?25h  Building wheel for PyDrive (setup.py) ... \u001b[?25ldone\n",
            "\u001b[?25h"
          ],
          "name": "stdout"
        }
      ]
    },
    {
      "cell_type": "code",
      "metadata": {
        "id": "bmIiB7F7EJ4M",
        "colab": {
          "base_uri": "https://localhost:8080/",
          "height": 52
        },
        "outputId": "bdf1c3c9-2fc0-46ad-eed7-0a5ae51d6ad4"
      },
      "source": [
        "!pip install opencv-python"
      ],
      "execution_count": null,
      "outputs": [
        {
          "output_type": "stream",
          "text": [
            "Requirement already satisfied: opencv-python in /usr/local/lib/python3.6/dist-packages (3.4.5.20)\n",
            "Requirement already satisfied: numpy>=1.11.3 in /usr/local/lib/python3.6/dist-packages (from opencv-python) (1.14.6)\n"
          ],
          "name": "stdout"
        }
      ]
    },
    {
      "cell_type": "code",
      "metadata": {
        "id": "BvAhi6y7EVby"
      },
      "source": [
        "!pip install -q pycocotools"
      ],
      "execution_count": null,
      "outputs": []
    },
    {
      "cell_type": "code",
      "metadata": {
        "id": "uKQw220dFCTu",
        "colab": {
          "base_uri": "https://localhost:8080/",
          "height": 70
        },
        "outputId": "5e82aec3-4eef-4c4d-87ab-2cf1604dd8ae"
      },
      "source": [
        "!pwd\n",
        "!ls\n",
        "%cd models\n"
      ],
      "execution_count": null,
      "outputs": [
        {
          "output_type": "stream",
          "text": [
            "/content\n",
            "models\tsample_data\n",
            "/content/models\n"
          ],
          "name": "stdout"
        }
      ]
    },
    {
      "cell_type": "code",
      "metadata": {
        "id": "-RmZOZvbFjBK"
      },
      "source": [
        "import os\n",
        "os.environ['PYTHONPATH'] += ':/root/content/models/research/:/root/content/models/research/slim/:/content/models/research/:/content/models/research/object_detection:/content/models/research/slim/'"
      ],
      "execution_count": null,
      "outputs": []
    },
    {
      "cell_type": "code",
      "metadata": {
        "id": "lYskDFFtFzPT",
        "colab": {
          "base_uri": "https://localhost:8080/",
          "height": 35
        },
        "outputId": "0fc1114a-fd37-4d24-c532-667cf806d82d"
      },
      "source": [
        "%cd research\n",
        "!protoc object_detection/protos/*.proto --python_out=."
      ],
      "execution_count": null,
      "outputs": [
        {
          "output_type": "stream",
          "text": [
            "/content/models/research\n"
          ],
          "name": "stdout"
        }
      ]
    },
    {
      "cell_type": "code",
      "metadata": {
        "id": "RT7fH4Y-FxUd"
      },
      "source": [
        "!protoc object_detection/protos/*.proto --python_out=."
      ],
      "execution_count": null,
      "outputs": []
    },
    {
      "cell_type": "code",
      "metadata": {
        "id": "sxSpAZRCGCn2",
        "colab": {
          "base_uri": "https://localhost:8080/",
          "height": 639
        },
        "outputId": "e2e15b3e-f5e0-4e71-a05f-a498e4608b00"
      },
      "source": [
        "!ls"
      ],
      "execution_count": null,
      "outputs": [
        {
          "output_type": "stream",
          "text": [
            "a3c_blogpost\t\t\t  lstm_object_detection\n",
            "adversarial_crypto\t\t  marco\n",
            "adversarial_logit_pairing\t  maskgan\n",
            "adversarial_text\t\t  minigo\n",
            "adv_imagenet_models\t\t  morph_net\n",
            "astronet\t\t\t  namignizer\n",
            "attention_ocr\t\t\t  neural_gpu\n",
            "audioset\t\t\t  neural_programmer\n",
            "autoaugment\t\t\t  next_frame_prediction\n",
            "autoencoder\t\t\t  nst_blogpost\n",
            "brain_coder\t\t\t  object_detection\n",
            "cognitive_mapping_and_planning\t  pcl_rl\n",
            "cognitive_planning\t\t  ptn\n",
            "compression\t\t\t  qa_kg\n",
            "cvt_text\t\t\t  README.md\n",
            "deep_contextual_bandits\t\t  real_nvp\n",
            "deeplab\t\t\t\t  rebar\n",
            "deep_speech\t\t\t  resnet\n",
            "delf\t\t\t\t  sentiment_analysis\n",
            "differential_privacy\t\t  seq2species\n",
            "domain_adaptation\t\t  setup.py\n",
            "efficient-hrl\t\t\t  skip_thoughts\n",
            "fivo\t\t\t\t  slim\n",
            "gan\t\t\t\t  steve\n",
            "global_objectives\t\t  street\n",
            "im2txt\t\t\t\t  struct2depth\n",
            "inception\t\t\t  swivel\n",
            "keypointnet\t\t\t  syntaxnet\n",
            "learned_optimizer\t\t  tcn\n",
            "learning_to_remember_rare_events  tensorrt\n",
            "learning_unsupervised_learning\t  textsum\n",
            "lexnet_nc\t\t\t  transformer\n",
            "lfads\t\t\t\t  vid2depth\n",
            "lm_1b\t\t\t\t  video_prediction\n",
            "lm_commonsense\n"
          ],
          "name": "stdout"
        }
      ]
    },
    {
      "cell_type": "code",
      "metadata": {
        "id": "QMLE2XLhGVqi"
      },
      "source": [
        "!rm -r object_detection"
      ],
      "execution_count": null,
      "outputs": []
    },
    {
      "cell_type": "code",
      "metadata": {
        "id": "KYcOmtlpHk0A",
        "colab": {
          "base_uri": "https://localhost:8080/",
          "height": 621
        },
        "outputId": "b614ae86-8146-4892-a3ef-2288299a4f31"
      },
      "source": [
        "!ls"
      ],
      "execution_count": null,
      "outputs": [
        {
          "output_type": "stream",
          "text": [
            "a3c_blogpost\t\t\t  lm_commonsense\n",
            "adversarial_crypto\t\t  lstm_object_detection\n",
            "adversarial_logit_pairing\t  marco\n",
            "adversarial_text\t\t  maskgan\n",
            "adv_imagenet_models\t\t  minigo\n",
            "astronet\t\t\t  morph_net\n",
            "attention_ocr\t\t\t  namignizer\n",
            "audioset\t\t\t  neural_gpu\n",
            "autoaugment\t\t\t  neural_programmer\n",
            "autoencoder\t\t\t  next_frame_prediction\n",
            "brain_coder\t\t\t  nst_blogpost\n",
            "cognitive_mapping_and_planning\t  pcl_rl\n",
            "cognitive_planning\t\t  ptn\n",
            "compression\t\t\t  qa_kg\n",
            "cvt_text\t\t\t  README.md\n",
            "deep_contextual_bandits\t\t  real_nvp\n",
            "deeplab\t\t\t\t  rebar\n",
            "deep_speech\t\t\t  resnet\n",
            "delf\t\t\t\t  sentiment_analysis\n",
            "differential_privacy\t\t  seq2species\n",
            "domain_adaptation\t\t  setup.py\n",
            "efficient-hrl\t\t\t  skip_thoughts\n",
            "fivo\t\t\t\t  slim\n",
            "gan\t\t\t\t  steve\n",
            "global_objectives\t\t  street\n",
            "im2txt\t\t\t\t  struct2depth\n",
            "inception\t\t\t  swivel\n",
            "keypointnet\t\t\t  syntaxnet\n",
            "learned_optimizer\t\t  tcn\n",
            "learning_to_remember_rare_events  tensorrt\n",
            "learning_unsupervised_learning\t  textsum\n",
            "lexnet_nc\t\t\t  transformer\n",
            "lfads\t\t\t\t  vid2depth\n",
            "lm_1b\t\t\t\t  video_prediction\n"
          ],
          "name": "stdout"
        }
      ]
    },
    {
      "cell_type": "markdown",
      "metadata": {
        "id": "541D4-lXxino"
      },
      "source": [
        "IMPORTING CUSTOMIZED OBJECT DETECTION FOLDER FROM GOOGLE DRIVE"
      ]
    },
    {
      "cell_type": "code",
      "metadata": {
        "id": "G7RV94A1Hoe8",
        "colab": {
          "base_uri": "https://localhost:8080/",
          "height": 35
        },
        "outputId": "8814d167-cf0d-47fd-bcb3-00133b3f14d6"
      },
      "source": [
        "fileId = '1yJCpw_FcmReKdy1ikdwWUhYGU_KTU2_I'\n",
        "\n",
        "import os\n",
        "from zipfile import ZipFile\n",
        "from shutil import copy\n",
        "from pydrive.auth import GoogleAuth\n",
        "from pydrive.drive import GoogleDrive\n",
        "from google.colab import auth\n",
        "from oauth2client.client import GoogleCredentials\n",
        "\n",
        "auth.authenticate_user()\n",
        "gauth = GoogleAuth()\n",
        "gauth.credentials = GoogleCredentials.get_application_default()\n",
        "drive = GoogleDrive(gauth)\n",
        "\n",
        "fileName = fileId + '.zip'\n",
        "downloaded = drive.CreateFile({'id': fileId})\n",
        "downloaded.GetContentFile(fileName)\n",
        "ds = ZipFile(fileName)\n",
        "ds.extractall()\n",
        "os.remove(fileName)\n",
        "print('Extracted zip file ' + fileName)"
      ],
      "execution_count": null,
      "outputs": [
        {
          "output_type": "stream",
          "text": [
            "Extracted zip file 1yJCpw_FcmReKdy1ikdwWUhYGU_KTU2_I.zip\n"
          ],
          "name": "stdout"
        }
      ]
    },
    {
      "cell_type": "code",
      "metadata": {
        "id": "O3mmvCKhNgao",
        "colab": {
          "base_uri": "https://localhost:8080/",
          "height": 639
        },
        "outputId": "f328a767-d78c-4b5f-defb-c833210c2df3"
      },
      "source": [
        "!ls"
      ],
      "execution_count": null,
      "outputs": [
        {
          "output_type": "stream",
          "text": [
            "a3c_blogpost\t\t\t  lstm_object_detection\n",
            "adversarial_crypto\t\t  marco\n",
            "adversarial_logit_pairing\t  maskgan\n",
            "adversarial_text\t\t  minigo\n",
            "adv_imagenet_models\t\t  morph_net\n",
            "astronet\t\t\t  namignizer\n",
            "attention_ocr\t\t\t  neural_gpu\n",
            "audioset\t\t\t  neural_programmer\n",
            "autoaugment\t\t\t  next_frame_prediction\n",
            "autoencoder\t\t\t  nst_blogpost\n",
            "brain_coder\t\t\t  object_detection\n",
            "cognitive_mapping_and_planning\t  pcl_rl\n",
            "cognitive_planning\t\t  ptn\n",
            "compression\t\t\t  qa_kg\n",
            "cvt_text\t\t\t  README.md\n",
            "deep_contextual_bandits\t\t  real_nvp\n",
            "deeplab\t\t\t\t  rebar\n",
            "deep_speech\t\t\t  resnet\n",
            "delf\t\t\t\t  sentiment_analysis\n",
            "differential_privacy\t\t  seq2species\n",
            "domain_adaptation\t\t  setup.py\n",
            "efficient-hrl\t\t\t  skip_thoughts\n",
            "fivo\t\t\t\t  slim\n",
            "gan\t\t\t\t  steve\n",
            "global_objectives\t\t  street\n",
            "im2txt\t\t\t\t  struct2depth\n",
            "inception\t\t\t  swivel\n",
            "keypointnet\t\t\t  syntaxnet\n",
            "learned_optimizer\t\t  tcn\n",
            "learning_to_remember_rare_events  tensorrt\n",
            "learning_unsupervised_learning\t  textsum\n",
            "lexnet_nc\t\t\t  transformer\n",
            "lfads\t\t\t\t  vid2depth\n",
            "lm_1b\t\t\t\t  video_prediction\n",
            "lm_commonsense\n"
          ],
          "name": "stdout"
        }
      ]
    },
    {
      "cell_type": "code",
      "metadata": {
        "id": "8ImyEfCs_N7M"
      },
      "source": [
        "#!mv object_detection_FRCNN  object_detection"
      ],
      "execution_count": null,
      "outputs": []
    },
    {
      "cell_type": "code",
      "metadata": {
        "id": "kTRb9LH3Nyy7",
        "colab": {
          "base_uri": "https://localhost:8080/",
          "height": 35
        },
        "outputId": "b5acaa8a-8c1e-4d2c-977a-a5f6fe5ef3d5"
      },
      "source": [
        "!python setup.py build"
      ],
      "execution_count": null,
      "outputs": [
        {
          "output_type": "stream",
          "text": [
            "running build\n"
          ],
          "name": "stdout"
        }
      ]
    },
    {
      "cell_type": "code",
      "metadata": {
        "id": "VXTh1EGXN9bh",
        "colab": {
          "base_uri": "https://localhost:8080/",
          "height": 1688
        },
        "outputId": "a93f74b4-053f-40d5-fb6d-8c4600538ae7"
      },
      "source": [
        "!python setup.py install"
      ],
      "execution_count": null,
      "outputs": [
        {
          "output_type": "stream",
          "text": [
            "running install\n",
            "running bdist_egg\n",
            "running egg_info\n",
            "creating object_detection.egg-info\n",
            "writing object_detection.egg-info/PKG-INFO\n",
            "writing dependency_links to object_detection.egg-info/dependency_links.txt\n",
            "writing requirements to object_detection.egg-info/requires.txt\n",
            "writing top-level names to object_detection.egg-info/top_level.txt\n",
            "writing manifest file 'object_detection.egg-info/SOURCES.txt'\n",
            "writing manifest file 'object_detection.egg-info/SOURCES.txt'\n",
            "installing library code to build/bdist.linux-x86_64/egg\n",
            "running install_lib\n",
            "warning: install_lib: 'build/lib' does not exist -- no Python modules to install\n",
            "\n",
            "creating build\n",
            "creating build/bdist.linux-x86_64\n",
            "creating build/bdist.linux-x86_64/egg\n",
            "creating build/bdist.linux-x86_64/egg/EGG-INFO\n",
            "copying object_detection.egg-info/PKG-INFO -> build/bdist.linux-x86_64/egg/EGG-INFO\n",
            "copying object_detection.egg-info/SOURCES.txt -> build/bdist.linux-x86_64/egg/EGG-INFO\n",
            "copying object_detection.egg-info/dependency_links.txt -> build/bdist.linux-x86_64/egg/EGG-INFO\n",
            "copying object_detection.egg-info/requires.txt -> build/bdist.linux-x86_64/egg/EGG-INFO\n",
            "copying object_detection.egg-info/top_level.txt -> build/bdist.linux-x86_64/egg/EGG-INFO\n",
            "zip_safe flag not set; analyzing archive contents...\n",
            "creating dist\n",
            "creating 'dist/object_detection-0.1-py3.6.egg' and adding 'build/bdist.linux-x86_64/egg' to it\n",
            "removing 'build/bdist.linux-x86_64/egg' (and everything under it)\n",
            "Processing object_detection-0.1-py3.6.egg\n",
            "Copying object_detection-0.1-py3.6.egg to /usr/local/lib/python3.6/dist-packages\n",
            "Adding object-detection 0.1 to easy-install.pth file\n",
            "\n",
            "Installed /usr/local/lib/python3.6/dist-packages/object_detection-0.1-py3.6.egg\n",
            "Processing dependencies for object-detection==0.1\n",
            "Searching for Cython==0.29.4\n",
            "Best match: Cython 0.29.4\n",
            "Adding Cython 0.29.4 to easy-install.pth file\n",
            "Installing cygdb script to /usr/local/bin\n",
            "Installing cython script to /usr/local/bin\n",
            "Installing cythonize script to /usr/local/bin\n",
            "\n",
            "Using /usr/local/lib/python3.6/dist-packages\n",
            "Searching for matplotlib==3.0.2\n",
            "Best match: matplotlib 3.0.2\n",
            "Adding matplotlib 3.0.2 to easy-install.pth file\n",
            "\n",
            "Using /usr/local/lib/python3.6/dist-packages\n",
            "Searching for Pillow==4.0.0\n",
            "Best match: Pillow 4.0.0\n",
            "Adding Pillow 4.0.0 to easy-install.pth file\n",
            "\n",
            "Using /usr/local/lib/python3.6/dist-packages\n",
            "Searching for cycler==0.10.0\n",
            "Best match: cycler 0.10.0\n",
            "Adding cycler 0.10.0 to easy-install.pth file\n",
            "\n",
            "Using /usr/local/lib/python3.6/dist-packages\n",
            "Searching for python-dateutil==2.5.3\n",
            "Best match: python-dateutil 2.5.3\n",
            "Adding python-dateutil 2.5.3 to easy-install.pth file\n",
            "\n",
            "Using /usr/local/lib/python3.6/dist-packages\n",
            "Searching for kiwisolver==1.0.1\n",
            "Best match: kiwisolver 1.0.1\n",
            "Adding kiwisolver 1.0.1 to easy-install.pth file\n",
            "\n",
            "Using /usr/local/lib/python3.6/dist-packages\n",
            "Searching for pyparsing==2.3.1\n",
            "Best match: pyparsing 2.3.1\n",
            "Adding pyparsing 2.3.1 to easy-install.pth file\n",
            "\n",
            "Using /usr/local/lib/python3.6/dist-packages\n",
            "Searching for numpy==1.14.6\n",
            "Best match: numpy 1.14.6\n",
            "Adding numpy 1.14.6 to easy-install.pth file\n",
            "\n",
            "Using /usr/local/lib/python3.6/dist-packages\n",
            "Searching for olefile==0.46\n",
            "Best match: olefile 0.46\n",
            "Adding olefile 0.46 to easy-install.pth file\n",
            "\n",
            "Using /usr/local/lib/python3.6/dist-packages\n",
            "Searching for six==1.11.0\n",
            "Best match: six 1.11.0\n",
            "Adding six 1.11.0 to easy-install.pth file\n",
            "\n",
            "Using /usr/local/lib/python3.6/dist-packages\n",
            "Searching for setuptools==40.7.3\n",
            "Best match: setuptools 40.7.3\n",
            "Adding setuptools 40.7.3 to easy-install.pth file\n",
            "Installing easy_install script to /usr/local/bin\n",
            "Installing easy_install-3.6 script to /usr/local/bin\n",
            "\n",
            "Using /usr/local/lib/python3.6/dist-packages\n",
            "Finished processing dependencies for object-detection==0.1\n"
          ],
          "name": "stdout"
        }
      ]
    },
    {
      "cell_type": "code",
      "metadata": {
        "id": "nWqtJtYnOFXb",
        "colab": {
          "base_uri": "https://localhost:8080/",
          "height": 35
        },
        "outputId": "92ff5756-0bca-418b-ceb3-ff901c1986c2"
      },
      "source": [
        "%cd object_detection/"
      ],
      "execution_count": null,
      "outputs": [
        {
          "output_type": "stream",
          "text": [
            "/content/models/research/object_detection\n"
          ],
          "name": "stdout"
        }
      ]
    },
    {
      "cell_type": "code",
      "metadata": {
        "id": "92Oqo-zi9xLc",
        "colab": {
          "base_uri": "https://localhost:8080/",
          "height": 34
        },
        "outputId": "6a96d56a-5e4c-4440-f212-140568657905"
      },
      "source": [
        "!python generate_tfrecord.py --csv_input=images/train_labels.csv --image_dir=images/train --output_path=train.record"
      ],
      "execution_count": null,
      "outputs": [
        {
          "output_type": "stream",
          "text": [
            "Successfully created the TFRecords: /content/models/research/object_detection/train.record\n"
          ],
          "name": "stdout"
        }
      ]
    },
    {
      "cell_type": "code",
      "metadata": {
        "id": "tIzq7IM2-YYg",
        "colab": {
          "base_uri": "https://localhost:8080/",
          "height": 34
        },
        "outputId": "879f7f3d-eaa8-4319-cdbc-dd7969fb38f6"
      },
      "source": [
        "!python generate_tfrecord.py --csv_input=images/test_labels.csv --image_dir=images/test --output_path=test.record"
      ],
      "execution_count": null,
      "outputs": [
        {
          "output_type": "stream",
          "text": [
            "Successfully created the TFRecords: /content/models/research/object_detection/test.record\n"
          ],
          "name": "stdout"
        }
      ]
    },
    {
      "cell_type": "code",
      "metadata": {
        "id": "TN3NaXaSOOx0"
      },
      "source": [
        "# training \n",
        "#!python train.py --logtostderr --train_dir=training/ --pipeline_config_path=training/ssd_inception_v2_coco.config"
      ],
      "execution_count": null,
      "outputs": []
    },
    {
      "cell_type": "markdown",
      "metadata": {
        "id": "KH06-QZb8yQB"
      },
      "source": [
        "# INFERENCE"
      ]
    },
    {
      "cell_type": "code",
      "metadata": {
        "id": "TNKJ7Xu_BEON",
        "colab": {
          "base_uri": "https://localhost:8080/",
          "height": 394
        },
        "outputId": "16f8a692-85a4-4537-a261-39a4f7c77b69"
      },
      "source": [
        "#!python Object_detection_image.py"
      ],
      "execution_count": null,
      "outputs": [
        {
          "output_type": "stream",
          "text": [
            "2019-02-06 04:18:51.341507: I tensorflow/core/platform/profile_utils/cpu_utils.cc:94] CPU Frequency: 2300000000 Hz\n",
            "2019-02-06 04:18:51.341798: I tensorflow/compiler/xla/service/service.cc:150] XLA service 0x3907080 executing computations on platform Host. Devices:\n",
            "2019-02-06 04:18:51.341842: I tensorflow/compiler/xla/service/service.cc:158]   StreamExecutor device (0): <undefined>, <undefined>\n",
            "2019-02-06 04:18:51.437877: I tensorflow/stream_executor/cuda/cuda_gpu_executor.cc:998] successful NUMA node read from SysFS had negative value (-1), but there must be at least one NUMA node, so returning NUMA node zero\n",
            "2019-02-06 04:18:51.438482: I tensorflow/compiler/xla/service/service.cc:150] XLA service 0x3907a20 executing computations on platform CUDA. Devices:\n",
            "2019-02-06 04:18:51.438527: I tensorflow/compiler/xla/service/service.cc:158]   StreamExecutor device (0): Tesla K80, Compute Capability 3.7\n",
            "2019-02-06 04:18:51.438935: I tensorflow/core/common_runtime/gpu/gpu_device.cc:1433] Found device 0 with properties: \n",
            "name: Tesla K80 major: 3 minor: 7 memoryClockRate(GHz): 0.8235\n",
            "pciBusID: 0000:00:04.0\n",
            "totalMemory: 11.17GiB freeMemory: 11.10GiB\n",
            "2019-02-06 04:18:51.438970: I tensorflow/core/common_runtime/gpu/gpu_device.cc:1512] Adding visible gpu devices: 0\n",
            "2019-02-06 04:18:51.786065: I tensorflow/core/common_runtime/gpu/gpu_device.cc:984] Device interconnect StreamExecutor with strength 1 edge matrix:\n",
            "2019-02-06 04:18:51.786136: I tensorflow/core/common_runtime/gpu/gpu_device.cc:990]      0 \n",
            "2019-02-06 04:18:51.786156: I tensorflow/core/common_runtime/gpu/gpu_device.cc:1003] 0:   N \n",
            "2019-02-06 04:18:51.786523: W tensorflow/core/common_runtime/gpu/gpu_bfc_allocator.cc:42] Overriding allow_growth setting because the TF_FORCE_GPU_ALLOW_GROWTH environment variable is set. Original config value was 0.\n",
            "2019-02-06 04:18:51.786581: I tensorflow/core/common_runtime/gpu/gpu_device.cc:1115] Created TensorFlow device (/job:localhost/replica:0/task:0/device:GPU:0 with 10754 MB memory) -> physical GPU (device: 0, name: Tesla K80, pci bus id: 0000:00:04.0, compute capability: 3.7)\n",
            "2019-02-06 04:18:52.680451: W ./tensorflow/core/grappler/optimizers/graph_optimizer_stage.h:241] Failed to run optimizer ArithmeticOptimizer, stage RemoveStackStridedSliceSameAxis node Preprocessor/map/while/ResizeToRange/strided_slice_3. Error: Pack node (Preprocessor/map/while/ResizeToRange/stack_2) axis attribute is out of bounds: 0\n",
            "2019-02-06 04:18:53.310622: W ./tensorflow/core/grappler/optimizers/graph_optimizer_stage.h:241] Failed to run optimizer ArithmeticOptimizer, stage RemoveStackStridedSliceSameAxis node Preprocessor/map/while/ResizeToRange/strided_slice_3. Error: Pack node (Preprocessor/map/while/ResizeToRange/stack_2) axis attribute is out of bounds: 0\n",
            "2019-02-06 04:18:53.581231: I tensorflow/stream_executor/dso_loader.cc:152] successfully opened CUDA library libcublas.so.10.0 locally\n",
            "Lorry\n",
            ": cannot connect to X server \n"
          ],
          "name": "stdout"
        }
      ]
    },
    {
      "cell_type": "markdown",
      "metadata": {
        "id": "AC4fgk2PjRgE"
      },
      "source": [
        "# INFERENCE"
      ]
    },
    {
      "cell_type": "code",
      "metadata": {
        "id": "gGzPAIcUjAJq"
      },
      "source": [
        "import numpy as np\n",
        "import os\n",
        "import six.moves.urllib as urllib\n",
        "import sys\n",
        "import tarfile\n",
        "import tensorflow as tf\n",
        "import zipfile\n",
        "\n",
        "from collections import defaultdict\n",
        "from io import StringIO\n",
        "from matplotlib import pyplot as plt\n",
        "from PIL import Image\n",
        "\n",
        "# This is needed since the notebook is stored in the object_detection folder.\n",
        "sys.path.append(\"..\")\n",
        "from object_detection.utils import ops as utils_ops\n",
        "\n",
        "#if tf.__version__ < '1.4.0':\n",
        "#  raise ImportError('Please upgrade your tensorflow installation to v1.4.* or later!')"
      ],
      "execution_count": null,
      "outputs": []
    },
    {
      "cell_type": "code",
      "metadata": {
        "id": "AYprpyXEjgJT"
      },
      "source": [
        "%matplotlib inline"
      ],
      "execution_count": null,
      "outputs": []
    },
    {
      "cell_type": "code",
      "metadata": {
        "id": "AUt2rKI5jiLl"
      },
      "source": [
        "from object_detection.utils import label_map_util\n",
        "from object_detection.utils import visualization_utils as vis_util"
      ],
      "execution_count": null,
      "outputs": []
    },
    {
      "cell_type": "code",
      "metadata": {
        "id": "WoF1c1Tbjkxe"
      },
      "source": [
        "# Name of the directory containing the object detection module we're using\n",
        "MODEL_NAME = 'inference_graph'\n",
        "IMAGE_NAME = 'test1.jpg'\n",
        "\n",
        "# Grab path to current working directory\n",
        "CWD_PATH = os.getcwd()\n",
        "\n",
        "# Path to frozen detection graph .pb file, which contains the model that is used\n",
        "# for object detection.\n",
        "PATH_TO_FROZEN_GRAPH = os.path.join(CWD_PATH,MODEL_NAME,'frozen_inference_graph.pb')\n",
        "\n",
        "# Path to label map file\n",
        "PATH_TO_LABELS = os.path.join(CWD_PATH,'training','labelmap.pbtxt')\n",
        "\n",
        "# Path to image\n",
        "PATH_TO_IMAGE = os.path.join(CWD_PATH,IMAGE_NAME)\n",
        "\n",
        "# Number of classes the object detector can identify\n",
        "NUM_CLASSES = 4"
      ],
      "execution_count": null,
      "outputs": []
    },
    {
      "cell_type": "code",
      "metadata": {
        "id": "k79pjgD2nQeH",
        "colab": {
          "base_uri": "https://localhost:8080/",
          "height": 35
        },
        "outputId": "4c60abde-3655-4e33-fb94-56273f104693"
      },
      "source": [
        "print(PATH_TO_IMAGE)"
      ],
      "execution_count": null,
      "outputs": [
        {
          "output_type": "stream",
          "text": [
            "/content/models/research/object_detection/test1.jpg\n"
          ],
          "name": "stdout"
        }
      ]
    },
    {
      "cell_type": "code",
      "metadata": {
        "id": "Alb4ZpIykQtC"
      },
      "source": [
        "detection_graph = tf.Graph()\n",
        "with detection_graph.as_default():\n",
        "  od_graph_def = tf.GraphDef()\n",
        "  with tf.gfile.GFile(PATH_TO_FROZEN_GRAPH, 'rb') as fid:\n",
        "    serialized_graph = fid.read()\n",
        "    od_graph_def.ParseFromString(serialized_graph)\n",
        "    tf.import_graph_def(od_graph_def, name='')"
      ],
      "execution_count": null,
      "outputs": []
    },
    {
      "cell_type": "code",
      "metadata": {
        "id": "iXohUnBrkUQv"
      },
      "source": [
        "label_map = label_map_util.load_labelmap(PATH_TO_LABELS)\n",
        "categories = label_map_util.convert_label_map_to_categories(label_map, max_num_classes=NUM_CLASSES, use_display_name=True)\n",
        "category_index = label_map_util.create_category_index(categories)"
      ],
      "execution_count": null,
      "outputs": []
    },
    {
      "cell_type": "code",
      "metadata": {
        "id": "5gRuNxCOkZPq"
      },
      "source": [
        "def load_image_into_numpy_array(image):\n",
        "  (im_width, im_height) = image.size\n",
        "  return np.array(image.getdata()).reshape(\n",
        "      (im_height, im_width, 3)).astype(np.uint8)"
      ],
      "execution_count": null,
      "outputs": []
    },
    {
      "cell_type": "code",
      "metadata": {
        "id": "97gu23UEkq3q"
      },
      "source": [
        "# For the sake of simplicity we will use only 2 images:\n",
        "# image1.jpg\n",
        "# image2.jpg\n",
        "# If you want to test the code with your images, just add path to the images to the TEST_IMAGE_PATHS.\n",
        "PATH_TO_TEST_IMAGES_DIR = 'test_images'\n",
        "TEST_IMAGE_PATHS = PATH_TO_IMAGE\n",
        "\n",
        "# Size, in inches, of the output images.\n",
        "IMAGE_SIZE = (12, 8)"
      ],
      "execution_count": null,
      "outputs": []
    },
    {
      "cell_type": "code",
      "metadata": {
        "id": "UF_w1sl8nAOC",
        "colab": {
          "base_uri": "https://localhost:8080/",
          "height": 35
        },
        "outputId": "deccd404-af24-4ecc-e7a5-d143fc4afb3a"
      },
      "source": [
        "print(TEST_IMAGE_PATHS)"
      ],
      "execution_count": null,
      "outputs": [
        {
          "output_type": "stream",
          "text": [
            "/content/models/research/object_detection/test1.jpg\n"
          ],
          "name": "stdout"
        }
      ]
    },
    {
      "cell_type": "code",
      "metadata": {
        "id": "nHhzlhVulE6f"
      },
      "source": [
        "def run_inference_for_single_image(image, graph):\n",
        "  with graph.as_default():\n",
        "    with tf.Session() as sess:\n",
        "      # Get handles to input and output tensors\n",
        "      ops = tf.get_default_graph().get_operations()\n",
        "      all_tensor_names = {output.name for op in ops for output in op.outputs}\n",
        "      tensor_dict = {}\n",
        "      for key in [\n",
        "          'num_detections', 'detection_boxes', 'detection_scores',\n",
        "          'detection_classes', 'detection_masks'\n",
        "      ]:\n",
        "        tensor_name = key + ':0'\n",
        "        if tensor_name in all_tensor_names:\n",
        "          tensor_dict[key] = tf.get_default_graph().get_tensor_by_name(\n",
        "              tensor_name)\n",
        "      if 'detection_masks' in tensor_dict:\n",
        "        # The following processing is only for single image\n",
        "        detection_boxes = tf.squeeze(tensor_dict['detection_boxes'], [0])\n",
        "        detection_masks = tf.squeeze(tensor_dict['detection_masks'], [0])\n",
        "        # Reframe is required to translate mask from box coordinates to image coordinates and fit the image size.\n",
        "        real_num_detection = tf.cast(tensor_dict['num_detections'][0], tf.int32)\n",
        "        detection_boxes = tf.slice(detection_boxes, [0, 0], [real_num_detection, -1])\n",
        "        detection_masks = tf.slice(detection_masks, [0, 0, 0], [real_num_detection, -1, -1])\n",
        "        detection_masks_reframed = utils_ops.reframe_box_masks_to_image_masks(\n",
        "            detection_masks, detection_boxes, image.shape[0], image.shape[1])\n",
        "        detection_masks_reframed = tf.cast(\n",
        "            tf.greater(detection_masks_reframed, 0.5), tf.uint8)\n",
        "        # Follow the convention by adding back the batch dimension\n",
        "        tensor_dict['detection_masks'] = tf.expand_dims(\n",
        "            detection_masks_reframed, 0)\n",
        "      image_tensor = tf.get_default_graph().get_tensor_by_name('image_tensor:0')\n",
        "\n",
        "      # Run inference\n",
        "      output_dict = sess.run(tensor_dict,\n",
        "                             feed_dict={image_tensor: np.expand_dims(image, 0)})\n",
        "\n",
        "      # all outputs are float32 numpy arrays, so convert types as appropriate\n",
        "      output_dict['num_detections'] = int(output_dict['num_detections'][0])\n",
        "      output_dict['detection_classes'] = output_dict[\n",
        "          'detection_classes'][0].astype(np.uint8)\n",
        "      output_dict['detection_boxes'] = output_dict['detection_boxes'][0]\n",
        "      output_dict['detection_scores'] = output_dict['detection_scores'][0]\n",
        "      if 'detection_masks' in output_dict:\n",
        "        output_dict['detection_masks'] = output_dict['detection_masks'][0]\n",
        "  return output_dict"
      ],
      "execution_count": null,
      "outputs": []
    },
    {
      "cell_type": "code",
      "metadata": {
        "id": "AI5NCJNWlwp3",
        "colab": {
          "base_uri": "https://localhost:8080/",
          "height": 35
        },
        "outputId": "63914bc2-49a9-4ebb-83ec-47beada1820a"
      },
      "source": [
        "#print(image_path)\n",
        "image_path='/content/models/research/object_detection/test1.jpg'\n",
        "print(image_path)"
      ],
      "execution_count": null,
      "outputs": [
        {
          "output_type": "stream",
          "text": [
            "/content/models/research/object_detection/test1.jpg\n"
          ],
          "name": "stdout"
        }
      ]
    },
    {
      "cell_type": "code",
      "metadata": {
        "id": "mA2Egx4blIJd",
        "colab": {
          "base_uri": "https://localhost:8080/",
          "height": 513
        },
        "outputId": "0636b306-2790-498a-ea15-19c71c845860"
      },
      "source": [
        "\n",
        "image = Image.open(image_path)\n",
        "# the array based representation of the image will be used later in order to prepare the\n",
        "# result image with boxes and labels on it.\n",
        "image_np = load_image_into_numpy_array(image)\n",
        "# Expand dimensions since the model expects images to have shape: [1, None, None, 3]\n",
        "image_np_expanded = np.expand_dims(image_np, axis=0)\n",
        "# Actual detection.\n",
        "output_dict = run_inference_for_single_image(image_np, detection_graph)\n",
        "  # Visualization of the results of a detection.\n",
        "vis_util.visualize_boxes_and_labels_on_image_array(\n",
        "      image_np,\n",
        "      output_dict['detection_boxes'],\n",
        "      output_dict['detection_classes'],\n",
        "      output_dict['detection_scores'],\n",
        "      category_index,\n",
        "      instance_masks=output_dict.get('detection_masks'),\n",
        "      use_normalized_coordinates=True,\n",
        "      line_thickness=2)\n",
        "plt.figure(figsize=IMAGE_SIZE)\n",
        "plt.imshow(image_np)"
      ],
      "execution_count": null,
      "outputs": [
        {
          "output_type": "stream",
          "text": [
            "Lorry\n"
          ],
          "name": "stdout"
        },
        {
          "output_type": "execute_result",
          "data": {
            "text/plain": [
              "<matplotlib.image.AxesImage at 0x7fa13275eb38>"
            ]
          },
          "metadata": {
            "tags": []
          },
          "execution_count": 32
        },
        {
          "output_type": "display_data",
          "data": {
            "image/png": "[encoded data removed]",
            "text/plain": [
              "<Figure size 864x576 with 1 Axes>"
            ]
          },
          "metadata": {
            "tags": []
          }
        }
      ]
    }
  ]
}